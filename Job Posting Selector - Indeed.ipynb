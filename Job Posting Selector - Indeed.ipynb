{
 "cells": [
  {
   "cell_type": "markdown",
   "metadata": {},
   "source": [
    "# Self-customized Job Posting Selector"
   ]
  },
  {
   "cell_type": "code",
   "execution_count": 4,
   "metadata": {},
   "outputs": [],
   "source": [
    "from selenium import webdriver\n",
    "import pandas as pd\n",
    "from bs4 import BeautifulSoup\n",
    "import time\n",
    "import random\n",
    "from selenium.webdriver.common.keys import Keys\n",
    "from datetime import datetime\n",
    "import re"
   ]
  },
  {
   "cell_type": "markdown",
   "metadata": {},
   "source": [
    "## Web-scraping"
   ]
  },
  {
   "cell_type": "markdown",
   "metadata": {},
   "source": [
    "Specify your requirements"
   ]
  },
  {
   "cell_type": "code",
   "execution_count": 20,
   "metadata": {},
   "outputs": [
    {
     "name": "stdout",
     "output_type": "stream",
     "text": [
      "Enter experience level(entry/mid/senior): entry\n",
      "Enter location: California\n",
      "Enter keywords: data analyst\n",
      "Your search url is ready: https://www.indeed.com/jobs?q=data+analyst&l=california&explvl=entry_level\n"
     ]
    }
   ],
   "source": [
    "# level\n",
    "level = str(input(\"Enter experience level(entry/mid/senior): \")).lower()+'_level'\n",
    "\n",
    "# location\n",
    "location = str(input(\"Enter location: \")).lower().replace(' ','+')\n",
    "\n",
    "# job query\n",
    "query = str(input(\"Enter keywords: \")).lower().replace(' ','+')\n",
    "\n",
    "url_link = 'https://www.indeed.com/jobs?q='+query+'&l='+location+'&explvl='+level\n",
    "print(f'Your search url is ready: {url_link}')"
   ]
  },
  {
   "cell_type": "code",
   "execution_count": 70,
   "metadata": {},
   "outputs": [],
   "source": [
    "query = 'data+scientist'\n",
    "location = 'California'\n",
    "level = 'entry_level'\n",
    "url_link = 'https://www.indeed.com/jobs?q='+query+'&l='+location+'&explvl='+level"
   ]
  },
  {
   "cell_type": "code",
   "execution_count": 71,
   "metadata": {},
   "outputs": [
    {
     "data": {
      "text/plain": [
       "'https://www.indeed.com/jobs?q=data+scientist&l=California&explvl=entry_level'"
      ]
     },
     "execution_count": 71,
     "metadata": {},
     "output_type": "execute_result"
    }
   ],
   "source": [
    "# Check if the link looks good\n",
    "url_link"
   ]
  },
  {
   "cell_type": "code",
   "execution_count": 1,
   "metadata": {},
   "outputs": [],
   "source": [
    "# Store pages in a table called postings\n",
    "postings = pd.DataFrame(columns=['title','location','company','urgent','job_description','date_released','job_ID'])\n",
    "driver = webdriver.Chrome('chromedriver')\n",
    "\n",
    "starttime = datetime.now()\n",
    "start = time.time()\n",
    "for i in range(0,30):\n",
    "    time.sleep(random.randint(1,3)+random.random())\n",
    "\n",
    "    driver.get(str(url_link)+'&sort=date&start='+str(10*i))\n",
    "    search_results = driver.find_elements_by_class_name('result')\n",
    "\n",
    "    for result in search_results:\n",
    "        result_html = result.get_attribute('innerHTML')\n",
    "        soup = BeautifulSoup(result_html,'html.parser')\n",
    "        sleep_time = random.randint(0,2) + random.random()  \n",
    "    \n",
    "        # find elements we need for each clickcard\n",
    "        ## Job title\n",
    "        try:\n",
    "            job_title = soup.find('a',{'class':'jobtitle'}).text.replace('\\n','')\n",
    "        except:\n",
    "            job_title = None\n",
    "\n",
    "        ## Job location\n",
    "        try:\n",
    "            job_location = soup.find('',{'class':'location'}).text.split(',')[0]\n",
    "        except:\n",
    "            job_location = None\n",
    "\n",
    "        ## Company\n",
    "        try:\n",
    "            company = soup.find('',{'class':'company'}).text.replace('\\n','')\n",
    "        except:\n",
    "            company = None\n",
    "\n",
    "        ## Date released\n",
    "        try:\n",
    "            release_date = soup.find('',{'class':'date'}).text.replace('\\n','')\n",
    "        except:\n",
    "            release_date = None\n",
    "\n",
    "        ## job description\n",
    "        try:\n",
    "            summary = result.find_elements_by_class_name('summary')[0]\n",
    "            summary.click()\n",
    "        except:\n",
    "            webdriver.ActionChains(driver).send_keys(Keys.ESCAPE).perform()\n",
    "            summary = result.find_elements_by_class_name('title')[0]\n",
    "            summary.click()\n",
    "            \n",
    "        try:\n",
    "            driver.implicitly_wait(5)\n",
    "            jd = driver.find_element_by_id('vjs-desc').text.strip()\n",
    "            print('page '+str(i)+' jd')\n",
    "        except:\n",
    "            jd = None\n",
    "            print('page '+str(i)+' failed')\n",
    "        \n",
    "        ## Job ID\n",
    "        jobID = driver.find_element_by_css_selector(\"div.jobsearch-SerpJobCard.unifiedRow.row.result.clickcard.vjs-highlight\").get_attribute('id')\n",
    "\n",
    "        ## Urgent or not\n",
    "        try:\n",
    "            urgent = driver.find_element_by_class_name('serpvj-UrgentlyHiringMessage-text').text\n",
    "        except:\n",
    "            urgent = None\n",
    "\n",
    "        postings = postings.append({'title': job_title,'location':job_location,'company':company,\\\n",
    "                                    'job_description':jd,'urgent':urgent,'date_released':release_date,'job_ID':jobID},ignore_index=True)\n",
    "\n",
    "driver.close()\n",
    "end = time.time()\n",
    "\n",
    "print('Finished')\n",
    "print('start from time:'+str(starttime))\n",
    "print(f\"Runtime of the program is {end - start}\")"
   ]
  },
  {
   "cell_type": "markdown",
   "metadata": {},
   "source": [
    "## Process data"
   ]
  },
  {
   "cell_type": "markdown",
   "metadata": {},
   "source": [
    "Before further analysis, first we need to process the data"
   ]
  },
  {
   "cell_type": "markdown",
   "metadata": {},
   "source": [
    "### Merge several datasets"
   ]
  },
  {
   "cell_type": "code",
   "execution_count": 8,
   "metadata": {},
   "outputs": [
    {
     "name": "stderr",
     "output_type": "stream",
     "text": [
      "C:\\Users\\nora_\\Anaconda3\\lib\\site-packages\\ipykernel_launcher.py:9: FutureWarning: Sorting because non-concatenation axis is not aligned. A future version\n",
      "of pandas will change to not sort by default.\n",
      "\n",
      "To accept the future behavior, pass 'sort=False'.\n",
      "\n",
      "To retain the current behavior and silence the warning, pass 'sort=True'.\n",
      "\n",
      "  if __name__ == '__main__':\n"
     ]
    }
   ],
   "source": [
    "data_analyst = pd.read_csv('postings_data_analyst.csv')\n",
    "data_science = pd.read_csv('postings_data_science.csv')\n",
    "data_scientist = pd.read_csv('postings_data_scientist.csv')\n",
    "data_visualization = pd.read_csv('postings_data_visualization.csv')\n",
    "product_analyst = pd.read_csv('postings_product_analyst.csv')\n",
    "machine_learning = pd.read_csv('postings_machine_learning.csv')\n",
    "\n",
    "frame = [data_analyst,data_science,data_scientist,data_visualization,machine_learning,product_analyst]\n",
    "all_postings = pd.concat(frame)"
   ]
  },
  {
   "cell_type": "code",
   "execution_count": 9,
   "metadata": {},
   "outputs": [],
   "source": [
    "all_postings.reset_index(drop=True,inplace=True)"
   ]
  },
  {
   "cell_type": "code",
   "execution_count": 11,
   "metadata": {},
   "outputs": [],
   "source": [
    "# Might have many job postings overlapping \n",
    "postings = all_postings.drop_duplicates()\n",
    "postings.reset_index(inplace=True,drop=True)"
   ]
  },
  {
   "cell_type": "markdown",
   "metadata": {},
   "source": [
    "### Process ID"
   ]
  },
  {
   "cell_type": "code",
   "execution_count": 3,
   "metadata": {},
   "outputs": [],
   "source": [
    "postings['job_ID'] = [x.split('_')[1] for x in postings.job_ID]"
   ]
  },
  {
   "cell_type": "code",
   "execution_count": 6,
   "metadata": {},
   "outputs": [],
   "source": [
    "# Create a url column so I can relate back to the webpage\n",
    "postings['url'] = [url_link+'&vjk='+x for x in postings.job_ID]"
   ]
  },
  {
   "cell_type": "markdown",
   "metadata": {},
   "source": [
    "### Process date"
   ]
  },
  {
   "cell_type": "code",
   "execution_count": 241,
   "metadata": {},
   "outputs": [],
   "source": [
    "# We keep only postings released within 30 days\n",
    "postings = postings[postings['date_released']!='30+ days ago']\n",
    "postings.reset_index(inplace=True,drop=True)\n",
    "\n",
    "days = []\n",
    "for i in range(0,len(postings)):\n",
    "    if postings.date_released[i]=='Just posted':\n",
    "        days_ago = 0\n",
    "    elif postings.date_released[i]=='Today':\n",
    "        days_ago = 0\n",
    "    else:\n",
    "        days_ago = int(postings.date_released[i].split(\" \")[0])\n",
    "    days.append(days_ago)\n",
    "postings['days_ago']=days"
   ]
  },
  {
   "cell_type": "markdown",
   "metadata": {},
   "source": [
    "### Process job description text"
   ]
  },
  {
   "cell_type": "code",
   "execution_count": 244,
   "metadata": {
    "collapsed": true
   },
   "outputs": [
    {
     "name": "stderr",
     "output_type": "stream",
     "text": [
      "C:\\Users\\nora_\\Anaconda3\\lib\\site-packages\\ipykernel_launcher.py:2: SettingWithCopyWarning: \n",
      "A value is trying to be set on a copy of a slice from a DataFrame.\n",
      "Try using .loc[row_indexer,col_indexer] = value instead\n",
      "\n",
      "See the caveats in the documentation: http://pandas.pydata.org/pandas-docs/stable/indexing.html#indexing-view-versus-copy\n",
      "  \n"
     ]
    }
   ],
   "source": [
    "# Replace all the newline symbol with space since paragraphs won't matter\n",
    "postings['clean_text'] = [x.replace('\\n',' ') for x in postings.job_description]\n",
    "\n",
    "# Convert all strings to lowercase\n",
    "postings.clean_text = [x.lower() for x in postings.clean_text]\n",
    "\n",
    "# Replace all punctuations to space\n",
    "postings.clean_text = [re.sub(r\"[()-/:,.;@#?!&$]+\\ *\", \" \", x) for x in postings.clean_text]"
   ]
  },
  {
   "cell_type": "markdown",
   "metadata": {},
   "source": [
    "## Customize the Job Selector"
   ]
  },
  {
   "cell_type": "markdown",
   "metadata": {},
   "source": [
    "1. Create meaningful metrics according to my portfolio<br>\n",
    "2. Quantify by giving each metric a weight and calculate overall score "
   ]
  },
  {
   "cell_type": "code",
   "execution_count": 15,
   "metadata": {},
   "outputs": [
    {
     "data": {
      "text/plain": [
       "Index(['Database', 'Python', 'R', 'Big Data', 'Data Manipulation',\n",
       "       'Data Visualization', 'Stats', 'Machine Learning', 'NLP',\n",
       "       'Cloud Computing', 'Deep Learning'],\n",
       "      dtype='object')"
      ]
     },
     "execution_count": 15,
     "metadata": {},
     "output_type": "execute_result"
    }
   ],
   "source": [
    "# A customized keyword list is used to match skills with job requirements\n",
    "keywords = pd.read_csv('keywords_for_ranking.csv')\n",
    "keywords.columns"
   ]
  },
  {
   "cell_type": "code",
   "execution_count": 16,
   "metadata": {},
   "outputs": [],
   "source": [
    "# Create word lists for different skills:\n",
    "def create_word_list(column):\n",
    "    raw_list = column.tolist()\n",
    "    cleaned_list = [x for x in raw_list if str(x) != 'nan']\n",
    "    return cleaned_list\n",
    "\n",
    "# Create a dict to store the keywords for each skill\n",
    "keyword_lists = {} \n",
    "for i in range(0,len(keywords.columns)):\n",
    "    name = str(keywords.columns[i])\n",
    "    value = create_word_list(keywords[keywords.columns[i]])\n",
    "    keyword_lists.update({name:value})"
   ]
  },
  {
   "cell_type": "code",
   "execution_count": 19,
   "metadata": {
    "scrolled": false
   },
   "outputs": [
    {
     "data": {
      "text/plain": [
       "['gcp',\n",
       " 'aws',\n",
       " 'cloud',\n",
       " 'cloud certificate',\n",
       " 'gpu',\n",
       " 'google cloud',\n",
       " 'amazon web service',\n",
       " 'cloud computing']"
      ]
     },
     "execution_count": 19,
     "metadata": {},
     "output_type": "execute_result"
    }
   ],
   "source": [
    "keyword_lists['Cloud Computing']"
   ]
  },
  {
   "cell_type": "code",
   "execution_count": 356,
   "metadata": {},
   "outputs": [],
   "source": [
    "# Check the appearance of keywords:\n",
    "def count_keywords(list_name,row):\n",
    "    list_to_count = [w for w in list_name if w in row]\n",
    "    keyword_count = len(list_to_count)\n",
    "    return keyword_count"
   ]
  },
  {
   "cell_type": "code",
   "execution_count": 358,
   "metadata": {},
   "outputs": [],
   "source": [
    "# For each skill, we count the keywords that appear in every job description\n",
    "## and form new labels\n",
    "\n",
    "keyword_label = {}\n",
    "for j in keywords.columns:\n",
    "    name = str(j)\n",
    "    count_list = []\n",
    "    for i in range(0,len(postings)):\n",
    "        keyword_count = count_keywords(keyword_lists[name],postings.clean_text[i])\n",
    "        count_list.append(keyword_count)\n",
    "    keyword_label.update({name:count_list})"
   ]
  },
  {
   "cell_type": "code",
   "execution_count": 359,
   "metadata": {
    "scrolled": true
   },
   "outputs": [],
   "source": [
    "# Take a look at how the data is like\n",
    "labels = pd.DataFrame.from_dict(keyword_label)"
   ]
  },
  {
   "cell_type": "code",
   "execution_count": 1,
   "metadata": {
    "scrolled": true
   },
   "outputs": [],
   "source": [
    "new_posting = pd.merge(postings, labels, left_index=True, right_index=True)\n",
    "new_posting"
   ]
  },
  {
   "cell_type": "code",
   "execution_count": 361,
   "metadata": {},
   "outputs": [],
   "source": [
    "new_posting.reset_index(inplace=True)"
   ]
  },
  {
   "cell_type": "code",
   "execution_count": 2,
   "metadata": {
    "scrolled": true
   },
   "outputs": [],
   "source": [
    "for i in keywords.columns:\n",
    "    print(new_posting.groupby(str(i)).agg({'index':len}))"
   ]
  },
  {
   "cell_type": "markdown",
   "metadata": {},
   "source": [
    "### Create new metrics for comparison"
   ]
  },
  {
   "cell_type": "markdown",
   "metadata": {},
   "source": [
    "A way to quantify the matchness of the job -- build a job matchness score<br>\n",
    "Set up metrics according to my job preference"
   ]
  },
  {
   "cell_type": "markdown",
   "metadata": {},
   "source": [
    "#### Location"
   ]
  },
  {
   "cell_type": "code",
   "execution_count": 364,
   "metadata": {},
   "outputs": [],
   "source": [
    "# Read the location information csv\n",
    "location_info = pd.read_csv('location.csv')\n",
    "location_info = location_info[['location','relocate']]"
   ]
  },
  {
   "cell_type": "code",
   "execution_count": 365,
   "metadata": {},
   "outputs": [],
   "source": [
    "new_posting = new_posting.merge(location_info,how='left',left_on='location',right_on='location')"
   ]
  },
  {
   "cell_type": "markdown",
   "metadata": {},
   "source": [
    "#### Date released"
   ]
  },
  {
   "cell_type": "code",
   "execution_count": 401,
   "metadata": {},
   "outputs": [],
   "source": [
    "# If a job is newly released it means my resume would have higher exposure\n",
    "new_posting['new_released'] = [2 if x <=5 else 0 if x >20 else 1 for x in new_posting.days_ago]"
   ]
  },
  {
   "cell_type": "markdown",
   "metadata": {},
   "source": [
    "#### Programming Language"
   ]
  },
  {
   "cell_type": "code",
   "execution_count": 366,
   "metadata": {},
   "outputs": [],
   "source": [
    "new_posting['language'] = new_posting['R']+new_posting['Python']+new_posting['Database']+new_posting['Big Data']"
   ]
  },
  {
   "cell_type": "code",
   "execution_count": 367,
   "metadata": {},
   "outputs": [],
   "source": [
    "# Set language == 1 if any of the 3 columns !=0\n",
    "new_posting.language = [1 if x !=0 else 0 for x in new_posting.language]"
   ]
  },
  {
   "cell_type": "code",
   "execution_count": 368,
   "metadata": {
    "scrolled": true
   },
   "outputs": [
    {
     "data": {
      "text/plain": [
       "0.5051334702258727"
      ]
     },
     "execution_count": 368,
     "metadata": {},
     "output_type": "execute_result"
    }
   ],
   "source": [
    "# See what the proportion is\n",
    "len(new_posting[new_posting.language==0])/len(new_posting)"
   ]
  },
  {
   "cell_type": "markdown",
   "metadata": {},
   "source": [
    "#### Weight different analysis skills"
   ]
  },
  {
   "cell_type": "code",
   "execution_count": 369,
   "metadata": {},
   "outputs": [
    {
     "data": {
      "text/plain": [
       "0.7700205338809035"
      ]
     },
     "execution_count": 369,
     "metadata": {},
     "output_type": "execute_result"
    }
   ],
   "source": [
    "# I create a metric to flag basic data analysis skills such as data manipulation and data visualization\n",
    "new_posting['basic_analytics'] = new_posting['Data Manipulation']+new_posting['Data Visualization']\n",
    "new_posting.basic_analytics = [1 if x !=0 else 0 for x in new_posting.basic_analytics]\n",
    "len(new_posting[new_posting.basic_analytics==0])/len(new_posting)"
   ]
  },
  {
   "cell_type": "code",
   "execution_count": 371,
   "metadata": {},
   "outputs": [
    {
     "name": "stdout",
     "output_type": "stream",
     "text": [
      "0.5420944558521561\n",
      "0.3675564681724846\n"
     ]
    }
   ],
   "source": [
    "# Then using similar method, I made metrics for advanced analytics skills and specialized skills\n",
    "## Advanced skills\n",
    "new_posting['advanced_analytics'] = new_posting['Stats']+new_posting['Machine Learning']\n",
    "new_posting.advanced_analytics = [1 if x !=0 else 0 for x in new_posting.advanced_analytics]\n",
    "print(len(new_posting[new_posting.advanced_analytics==0])/len(new_posting))\n",
    "\n",
    "## Specialized skills\n",
    "new_posting['specialized_analytics'] = new_posting['NLP']+new_posting['Cloud Computing']+new_posting['Deep Learning']\n",
    "new_posting.specialized_analytics = [1 if x !=0 else 0 for x in new_posting.specialized_analytics]\n",
    "print(len(new_posting[new_posting.specialized_analytics==0])/len(new_posting))"
   ]
  },
  {
   "cell_type": "code",
   "execution_count": 381,
   "metadata": {},
   "outputs": [
    {
     "data": {
      "text/plain": [
       "Index(['index', 'company', 'date_released', 'job_description', 'location',\n",
       "       'title', 'urgent', 'days_ago', 'clean_text', 'Stats', 'Database',\n",
       "       'Python', 'R', 'Big Data', 'Data Manipulation', 'Data Visualization',\n",
       "       'Machine Learning', 'NLP', 'Cloud Computing', 'Deep Learning',\n",
       "       'relocate', 'language', 'basic_analytics', 'advanced_analytics',\n",
       "       'specialized_analytics', 'overall_score'],\n",
       "      dtype='object')"
      ]
     },
     "execution_count": 381,
     "metadata": {},
     "output_type": "execute_result"
    }
   ],
   "source": [
    "new_posting.columns"
   ]
  },
  {
   "cell_type": "code",
   "execution_count": 587,
   "metadata": {},
   "outputs": [],
   "source": [
    "# Overall score\n",
    "new_posting['overall_score'] = 20*new_posting.language+\\\n",
    "                               +7.5*(new_posting[['Data Manipulation', 'Data Visualization']].sum(axis=1))\\\n",
    "                               +10*(new_posting[['Stats','Machine Learning']].sum(axis=1))\\\n",
    "                               +5*(new_posting[['NLP', 'Cloud Computing', 'Deep Learning']].sum(axis=1))\\\n",
    "                               +(-20)*new_posting.relocate+5*new_posting.new_released"
   ]
  },
  {
   "cell_type": "code",
   "execution_count": 588,
   "metadata": {
    "scrolled": true
   },
   "outputs": [],
   "source": [
    "final_ranking = new_posting.sort_values(by='overall_score',ascending=False).reset_index(drop=True)"
   ]
  },
  {
   "cell_type": "code",
   "execution_count": 3,
   "metadata": {
    "scrolled": true
   },
   "outputs": [],
   "source": [
    "ranking_table = final_ranking[final_ranking['overall_score']>=60][['company','job_description','language','basic_analytics','advanced_analytics','specialized_analytics','relocate','overall_score']]\n",
    "ranking_table"
   ]
  },
  {
   "cell_type": "code",
   "execution_count": 590,
   "metadata": {},
   "outputs": [
    {
     "data": {
      "text/plain": [
       "<matplotlib.axes._subplots.AxesSubplot at 0x1f3ebbc6390>"
      ]
     },
     "execution_count": 590,
     "metadata": {},
     "output_type": "execute_result"
    },
    {
     "data": {
      "image/png": "[encoded data removed]",
      "text/plain": [
       "<Figure size 432x288 with 1 Axes>"
      ]
     },
     "metadata": {
      "needs_background": "light"
     },
     "output_type": "display_data"
    }
   ],
   "source": [
    "final_ranking.overall_score.hist()"
   ]
  },
  {
   "cell_type": "code",
   "execution_count": 574,
   "metadata": {},
   "outputs": [],
   "source": [
    "final_ranking.to_csv('final_ranking_posting.csv',index=False)"
   ]
  }
 ],
 "metadata": {
  "hide_input": false,
  "kernelspec": {
   "display_name": "Python 3",
   "language": "python",
   "name": "python3"
  },
  "language_info": {
   "codemirror_mode": {
    "name": "ipython",
    "version": 3
   },
   "file_extension": ".py",
   "mimetype": "text/x-python",
   "name": "python",
   "nbconvert_exporter": "python",
   "pygments_lexer": "ipython3",
   "version": "3.7.3"
  },
  "toc": {
   "base_numbering": 1,
   "nav_menu": {},
   "number_sections": true,
   "sideBar": true,
   "skip_h1_title": false,
   "title_cell": "Table of Contents",
   "title_sidebar": "Contents",
   "toc_cell": false,
   "toc_position": {
    "height": "calc(100% - 180px)",
    "left": "10px",
    "top": "150px",
    "width": "303.986px"
   },
   "toc_section_display": true,
   "toc_window_display": true
  },
  "varInspector": {
   "cols": {
    "lenName": 16,
    "lenType": 16,
    "lenVar": 40
   },
   "kernels_config": {
    "python": {
     "delete_cmd_postfix": "",
     "delete_cmd_prefix": "del ",
     "library": "var_list.py",
     "varRefreshCmd": "print(var_dic_list())"
    },
    "r": {
     "delete_cmd_postfix": ") ",
     "delete_cmd_prefix": "rm(",
     "library": "var_list.r",
     "varRefreshCmd": "cat(var_dic_list()) "
    }
   },
   "types_to_exclude": [
    "module",
    "function",
    "builtin_function_or_method",
    "instance",
    "_Feature"
   ],
   "window_display": false
  }
 },
 "nbformat": 4,
 "nbformat_minor": 2
}
